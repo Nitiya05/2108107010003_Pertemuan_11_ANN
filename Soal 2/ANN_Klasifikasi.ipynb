{
  "cells": [
    {
      "cell_type": "markdown",
      "source": [
        "# Artificial Neural Networks-Klasifikasi"
      ],
      "metadata": {
        "id": "Sk2qzLjKffAO"
      }
    },
    {
      "cell_type": "markdown",
      "metadata": {
        "id": "TsqQbpLIBdAB"
      },
      "source": [
        "link dataset : https://www.kaggle.com/datasets/uciml/breast-cancer-wisconsin-data/data\n",
        "\n",
        "Attribute Information:\n",
        "\n",
        "1) ID number\n",
        "2) Diagnosis (M = malignant, B = benign)\n",
        "3-32)\n",
        "\n",
        "Ten real-valued features are computed for each cell nucleus:\n",
        "\n",
        "a) radius (mean of distances from center to points on the perimeter)\n",
        "b) texture (standard deviation of gray-scale values)\n",
        "c) perimeter\n",
        "d) area\n",
        "e) smoothness (local variation in radius lengths)\n",
        "f) compactness (perimeter^2 / area - 1.0)\n",
        "g) concavity (severity of concave portions of the contour)\n",
        "h) concave points (number of concave portions of the contour)\n",
        "i) symmetry\n",
        "j) fractal dimension (\"coastline approximation\" - 1)\n",
        "\n",
        "The mean, standard error and \"worst\" or largest (mean of the three\n",
        "largest values) of these features were computed for each image,\n",
        "resulting in 30 features. For instance, field 3 is Mean Radius, field\n",
        "13 is Radius SE, field 23 is Worst Radius.\n",
        "\n",
        "All feature values are recoded with four significant digits.\n",
        "\n",
        "Missing attribute values: none\n",
        "\n",
        "Class distribution: 357 benign, 212 malignant"
      ]
    },
    {
      "cell_type": "code",
      "execution_count": 14,
      "metadata": {
        "id": "sM3gN52s8ESr"
      },
      "outputs": [],
      "source": [
        "# Import library dan modul yang diperlukan\n",
        "import numpy as np\n",
        "import matplotlib.pyplot as plt\n",
        "import pandas as pd\n",
        "from sklearn.model_selection import train_test_split\n",
        "from sklearn.preprocessing import StandardScaler\n",
        "from sklearn.metrics import confusion_matrix, classification_report\n",
        "from sklearn.preprocessing import LabelEncoder\n",
        "from sklearn.impute import SimpleImputer\n",
        "import tensorflow as tf\n",
        "from tensorflow.keras.models import Sequential\n",
        "from tensorflow.keras.layers import Dense"
      ]
    },
    {
      "cell_type": "markdown",
      "source": [
        "Kode tersebut digunakan untuk membangun, melatih, dan mengevaluasi model Artificial Neural Network (ANN) menggunakan TensorFlow dan Keras. Itu juga melakukan pra-pemrosesan data seperti pembagian dataset, normalisasi, dan penanganan nilai yang hilang."
      ],
      "metadata": {
        "id": "NyfWeICQYNVn"
      }
    },
    {
      "cell_type": "markdown",
      "source": [
        "# EDA"
      ],
      "metadata": {
        "id": "hcMpDnKSZO49"
      }
    },
    {
      "cell_type": "code",
      "source": [
        "# Memuat dataset\n",
        "dataset = pd.read_csv('data.csv')\n",
        "\n",
        "# Memisahkan fitur dan target\n",
        "X = dataset.iloc[:, 2:].values\n",
        "y = dataset.iloc[:, 1].values\n",
        "\n",
        "# Membagi data menjadi set latih dan uji\n",
        "X_train, X_test, y_train, y_test = train_test_split(X, y, test_size=0.25, random_state=0)\n",
        "\n",
        "print(dataset)"
      ],
      "metadata": {
        "id": "mVHVX_aSNiNV",
        "colab": {
          "base_uri": "https://localhost:8080/"
        },
        "outputId": "a3c0a084-dd93-4234-fbb8-417e9adcfd0d"
      },
      "execution_count": 15,
      "outputs": [
        {
          "output_type": "stream",
          "name": "stdout",
          "text": [
            "           id diagnosis  radius_mean  texture_mean  perimeter_mean  area_mean  \\\n",
            "0      842302         M        17.99         10.38          122.80     1001.0   \n",
            "1      842517         M        20.57         17.77          132.90     1326.0   \n",
            "2    84300903         M        19.69         21.25          130.00     1203.0   \n",
            "3    84348301         M        11.42         20.38           77.58      386.1   \n",
            "4    84358402         M        20.29         14.34          135.10     1297.0   \n",
            "..        ...       ...          ...           ...             ...        ...   \n",
            "564    926424         M        21.56         22.39          142.00     1479.0   \n",
            "565    926682         M        20.13         28.25          131.20     1261.0   \n",
            "566    926954         M        16.60         28.08          108.30      858.1   \n",
            "567    927241         M        20.60         29.33          140.10     1265.0   \n",
            "568     92751         B         7.76         24.54           47.92      181.0   \n",
            "\n",
            "     smoothness_mean  compactness_mean  concavity_mean  concave points_mean  \\\n",
            "0            0.11840           0.27760         0.30010              0.14710   \n",
            "1            0.08474           0.07864         0.08690              0.07017   \n",
            "2            0.10960           0.15990         0.19740              0.12790   \n",
            "3            0.14250           0.28390         0.24140              0.10520   \n",
            "4            0.10030           0.13280         0.19800              0.10430   \n",
            "..               ...               ...             ...                  ...   \n",
            "564          0.11100           0.11590         0.24390              0.13890   \n",
            "565          0.09780           0.10340         0.14400              0.09791   \n",
            "566          0.08455           0.10230         0.09251              0.05302   \n",
            "567          0.11780           0.27700         0.35140              0.15200   \n",
            "568          0.05263           0.04362         0.00000              0.00000   \n",
            "\n",
            "     ...  texture_worst  perimeter_worst  area_worst  smoothness_worst  \\\n",
            "0    ...          17.33           184.60      2019.0           0.16220   \n",
            "1    ...          23.41           158.80      1956.0           0.12380   \n",
            "2    ...          25.53           152.50      1709.0           0.14440   \n",
            "3    ...          26.50            98.87       567.7           0.20980   \n",
            "4    ...          16.67           152.20      1575.0           0.13740   \n",
            "..   ...            ...              ...         ...               ...   \n",
            "564  ...          26.40           166.10      2027.0           0.14100   \n",
            "565  ...          38.25           155.00      1731.0           0.11660   \n",
            "566  ...          34.12           126.70      1124.0           0.11390   \n",
            "567  ...          39.42           184.60      1821.0           0.16500   \n",
            "568  ...          30.37            59.16       268.6           0.08996   \n",
            "\n",
            "     compactness_worst  concavity_worst  concave points_worst  symmetry_worst  \\\n",
            "0              0.66560           0.7119                0.2654          0.4601   \n",
            "1              0.18660           0.2416                0.1860          0.2750   \n",
            "2              0.42450           0.4504                0.2430          0.3613   \n",
            "3              0.86630           0.6869                0.2575          0.6638   \n",
            "4              0.20500           0.4000                0.1625          0.2364   \n",
            "..                 ...              ...                   ...             ...   \n",
            "564            0.21130           0.4107                0.2216          0.2060   \n",
            "565            0.19220           0.3215                0.1628          0.2572   \n",
            "566            0.30940           0.3403                0.1418          0.2218   \n",
            "567            0.86810           0.9387                0.2650          0.4087   \n",
            "568            0.06444           0.0000                0.0000          0.2871   \n",
            "\n",
            "     fractal_dimension_worst  Unnamed: 32  \n",
            "0                    0.11890          NaN  \n",
            "1                    0.08902          NaN  \n",
            "2                    0.08758          NaN  \n",
            "3                    0.17300          NaN  \n",
            "4                    0.07678          NaN  \n",
            "..                       ...          ...  \n",
            "564                  0.07115          NaN  \n",
            "565                  0.06637          NaN  \n",
            "566                  0.07820          NaN  \n",
            "567                  0.12400          NaN  \n",
            "568                  0.07039          NaN  \n",
            "\n",
            "[569 rows x 33 columns]\n"
          ]
        }
      ]
    },
    {
      "cell_type": "markdown",
      "source": [
        "Disini dilakukan pemrosesan data, dimana dataset dibaca dari file CSV, kemudian fitur dan target dipisahkan. Selanjutnya, data dibagi menjadi set latih dan uji untuk melatih dan menguji model."
      ],
      "metadata": {
        "id": "9j1vjaQ6eWty"
      }
    },
    {
      "cell_type": "markdown",
      "source": [
        "# Processing Data"
      ],
      "metadata": {
        "id": "PRAA0gDxZV-7"
      }
    },
    {
      "cell_type": "code",
      "source": [
        "# Mengubah label target menjadi bilangan bulat\n",
        "label_encoder = LabelEncoder()\n",
        "y_train_encoded = label_encoder.fit_transform(y_train)\n",
        "y_test_encoded = label_encoder.transform(y_test)  # Encode labels uji juga\n",
        "\n",
        "# Mengisi nilai yang hilang dengan mean\n",
        "imputer = SimpleImputer(strategy='mean')\n",
        "X_train = imputer.fit_transform(X_train)\n",
        "X_test = imputer.transform(X_test)\n",
        "\n",
        "# Penskalaan fitur\n",
        "sc = StandardScaler()\n",
        "X_train = sc.fit_transform(X_train)\n",
        "X_test = sc.transform(X_test)"
      ],
      "metadata": {
        "id": "by-Sx0tSO7tO"
      },
      "execution_count": 16,
      "outputs": []
    },
    {
      "cell_type": "markdown",
      "source": [
        "Kode tersebut melakukan pra-pemrosesan data dengan langkah-langkah berikut:\n",
        "\n",
        "Label Encoding: Mengubah label target menjadi bilangan bulat.\n",
        "\\\n",
        "\\\n",
        "Imputasi Nilai yang Hilang: Mengisi nilai yang hilang dengan nilai rata-rata dari setiap fitur.\n",
        "\\\n",
        "\\\n",
        "Penskalaan Fitur: Mengubah skala fitur-fitur agar memiliki mean 0 dan varians 1."
      ],
      "metadata": {
        "id": "zFqvNeeAefGi"
      }
    },
    {
      "cell_type": "markdown",
      "source": [
        "# Pembangunan Model"
      ],
      "metadata": {
        "id": "Mgiu7WUDhKTa"
      }
    },
    {
      "cell_type": "code",
      "source": [
        "# Inisialisasi model ANN\n",
        "ann_classifier = Sequential()\n",
        "\n",
        "# Menambahkan input layer dan hidden layer pertama\n",
        "ann_classifier.add(Dense(units=6, activation='relu', input_dim=X_train.shape[1]))\n",
        "\n",
        "# Menambahkan hidden layer kedua\n",
        "ann_classifier.add(Dense(units=6, activation='relu'))\n",
        "\n",
        "# Menambahkan output layer\n",
        "ann_classifier.add(Dense(units=1, activation='sigmoid'))\n",
        "\n",
        "# Mengompilasi model ANN\n",
        "ann_classifier.compile(optimizer='adam', loss='binary_crossentropy', metrics=['accuracy'])"
      ],
      "metadata": {
        "id": "8sst9MT4Fc7B"
      },
      "execution_count": 18,
      "outputs": []
    },
    {
      "cell_type": "markdown",
      "source": [
        "Ini untuk membuat dan mengompilasi model Artificial Neural Network (ANN) menggunakan Keras dari TensorFlow. Model ini memiliki tiga layer: input layer dan dua hidden layers. Output layer memiliki satu neuron karena ini adalah masalah klasifikasi biner. Model dikompilasi dengan pengoptimal Adam, menggunakan binary crossentropy sebagai fungsi kerugian, dan akurasi sebagai metrik evaluasi."
      ],
      "metadata": {
        "id": "U1G2s1QYiEny"
      }
    },
    {
      "cell_type": "markdown",
      "source": [
        "# Evaluasi dan Pengujian"
      ],
      "metadata": {
        "id": "iUW8oIlXhfBB"
      }
    },
    {
      "cell_type": "code",
      "source": [
        "# Melatih model ANN pada set latih\n",
        "ann_classifier.fit(X_train, y_train_encoded, batch_size=32, epochs=100)\n",
        "\n",
        "# Memprediksi hasil set uji\n",
        "y_pred_ann = ann_classifier.predict(X_test)\n",
        "y_pred_ann_binary = (y_pred_ann > 0.5).astype(int)\n",
        "\n",
        "# Evaluasi model ANN\n",
        "print(\"\\nAccuracy Score:\")\n",
        "print(accuracy_score(y_test_encoded, y_pred_ann_binary))\n",
        "\n",
        "print(\"\\nConfusion Matrix:\")\n",
        "print(confusion_matrix(y_test_encoded, y_pred_ann_binary))\n",
        "\n",
        "print(\"\\nClassification Report:\")\n",
        "print(classification_report(y_test_encoded, y_pred_ann_binary))"
      ],
      "metadata": {
        "colab": {
          "base_uri": "https://localhost:8080/"
        },
        "id": "eEyfEaJvgE5-",
        "outputId": "c47ad647-4a17-4f05-8796-53da9f608184"
      },
      "execution_count": 19,
      "outputs": [
        {
          "output_type": "stream",
          "name": "stdout",
          "text": [
            "Epoch 1/100\n",
            "14/14 [==============================] - 1s 2ms/step - loss: 0.6503 - accuracy: 0.7019\n",
            "Epoch 2/100\n",
            "14/14 [==============================] - 0s 2ms/step - loss: 0.6131 - accuracy: 0.7582\n",
            "Epoch 3/100\n",
            "14/14 [==============================] - 0s 2ms/step - loss: 0.5746 - accuracy: 0.8169\n",
            "Epoch 4/100\n",
            "14/14 [==============================] - 0s 2ms/step - loss: 0.5378 - accuracy: 0.8427\n",
            "Epoch 5/100\n",
            "14/14 [==============================] - 0s 2ms/step - loss: 0.5033 - accuracy: 0.8779\n",
            "Epoch 6/100\n",
            "14/14 [==============================] - 0s 2ms/step - loss: 0.4708 - accuracy: 0.8944\n",
            "Epoch 7/100\n",
            "14/14 [==============================] - 0s 2ms/step - loss: 0.4381 - accuracy: 0.9085\n",
            "Epoch 8/100\n",
            "14/14 [==============================] - 0s 2ms/step - loss: 0.4055 - accuracy: 0.9108\n",
            "Epoch 9/100\n",
            "14/14 [==============================] - 0s 3ms/step - loss: 0.3729 - accuracy: 0.9225\n",
            "Epoch 10/100\n",
            "14/14 [==============================] - 0s 2ms/step - loss: 0.3404 - accuracy: 0.9296\n",
            "Epoch 11/100\n",
            "14/14 [==============================] - 0s 2ms/step - loss: 0.3088 - accuracy: 0.9413\n",
            "Epoch 12/100\n",
            "14/14 [==============================] - 0s 2ms/step - loss: 0.2786 - accuracy: 0.9484\n",
            "Epoch 13/100\n",
            "14/14 [==============================] - 0s 2ms/step - loss: 0.2520 - accuracy: 0.9507\n",
            "Epoch 14/100\n",
            "14/14 [==============================] - 0s 2ms/step - loss: 0.2275 - accuracy: 0.9577\n",
            "Epoch 15/100\n",
            "14/14 [==============================] - 0s 2ms/step - loss: 0.2068 - accuracy: 0.9601\n",
            "Epoch 16/100\n",
            "14/14 [==============================] - 0s 2ms/step - loss: 0.1875 - accuracy: 0.9624\n",
            "Epoch 17/100\n",
            "14/14 [==============================] - 0s 2ms/step - loss: 0.1717 - accuracy: 0.9624\n",
            "Epoch 18/100\n",
            "14/14 [==============================] - 0s 3ms/step - loss: 0.1579 - accuracy: 0.9648\n",
            "Epoch 19/100\n",
            "14/14 [==============================] - 0s 2ms/step - loss: 0.1457 - accuracy: 0.9695\n",
            "Epoch 20/100\n",
            "14/14 [==============================] - 0s 2ms/step - loss: 0.1353 - accuracy: 0.9742\n",
            "Epoch 21/100\n",
            "14/14 [==============================] - 0s 2ms/step - loss: 0.1262 - accuracy: 0.9765\n",
            "Epoch 22/100\n",
            "14/14 [==============================] - 0s 2ms/step - loss: 0.1186 - accuracy: 0.9765\n",
            "Epoch 23/100\n",
            "14/14 [==============================] - 0s 2ms/step - loss: 0.1120 - accuracy: 0.9765\n",
            "Epoch 24/100\n",
            "14/14 [==============================] - 0s 2ms/step - loss: 0.1065 - accuracy: 0.9765\n",
            "Epoch 25/100\n",
            "14/14 [==============================] - 0s 2ms/step - loss: 0.1012 - accuracy: 0.9789\n",
            "Epoch 26/100\n",
            "14/14 [==============================] - 0s 2ms/step - loss: 0.0969 - accuracy: 0.9789\n",
            "Epoch 27/100\n",
            "14/14 [==============================] - 0s 2ms/step - loss: 0.0931 - accuracy: 0.9812\n",
            "Epoch 28/100\n",
            "14/14 [==============================] - 0s 2ms/step - loss: 0.0896 - accuracy: 0.9812\n",
            "Epoch 29/100\n",
            "14/14 [==============================] - 0s 2ms/step - loss: 0.0869 - accuracy: 0.9812\n",
            "Epoch 30/100\n",
            "14/14 [==============================] - 0s 2ms/step - loss: 0.0841 - accuracy: 0.9812\n",
            "Epoch 31/100\n",
            "14/14 [==============================] - 0s 2ms/step - loss: 0.0817 - accuracy: 0.9812\n",
            "Epoch 32/100\n",
            "14/14 [==============================] - 0s 3ms/step - loss: 0.0798 - accuracy: 0.9836\n",
            "Epoch 33/100\n",
            "14/14 [==============================] - 0s 2ms/step - loss: 0.0779 - accuracy: 0.9836\n",
            "Epoch 34/100\n",
            "14/14 [==============================] - 0s 2ms/step - loss: 0.0760 - accuracy: 0.9836\n",
            "Epoch 35/100\n",
            "14/14 [==============================] - 0s 2ms/step - loss: 0.0745 - accuracy: 0.9836\n",
            "Epoch 36/100\n",
            "14/14 [==============================] - 0s 2ms/step - loss: 0.0729 - accuracy: 0.9836\n",
            "Epoch 37/100\n",
            "14/14 [==============================] - 0s 2ms/step - loss: 0.0718 - accuracy: 0.9859\n",
            "Epoch 38/100\n",
            "14/14 [==============================] - 0s 2ms/step - loss: 0.0706 - accuracy: 0.9859\n",
            "Epoch 39/100\n",
            "14/14 [==============================] - 0s 2ms/step - loss: 0.0695 - accuracy: 0.9859\n",
            "Epoch 40/100\n",
            "14/14 [==============================] - 0s 2ms/step - loss: 0.0684 - accuracy: 0.9859\n",
            "Epoch 41/100\n",
            "14/14 [==============================] - 0s 2ms/step - loss: 0.0675 - accuracy: 0.9859\n",
            "Epoch 42/100\n",
            "14/14 [==============================] - 0s 2ms/step - loss: 0.0665 - accuracy: 0.9883\n",
            "Epoch 43/100\n",
            "14/14 [==============================] - 0s 2ms/step - loss: 0.0656 - accuracy: 0.9883\n",
            "Epoch 44/100\n",
            "14/14 [==============================] - 0s 2ms/step - loss: 0.0650 - accuracy: 0.9883\n",
            "Epoch 45/100\n",
            "14/14 [==============================] - 0s 2ms/step - loss: 0.0641 - accuracy: 0.9883\n",
            "Epoch 46/100\n",
            "14/14 [==============================] - 0s 2ms/step - loss: 0.0634 - accuracy: 0.9883\n",
            "Epoch 47/100\n",
            "14/14 [==============================] - 0s 2ms/step - loss: 0.0628 - accuracy: 0.9883\n",
            "Epoch 48/100\n",
            "14/14 [==============================] - 0s 3ms/step - loss: 0.0622 - accuracy: 0.9883\n",
            "Epoch 49/100\n",
            "14/14 [==============================] - 0s 2ms/step - loss: 0.0616 - accuracy: 0.9883\n",
            "Epoch 50/100\n",
            "14/14 [==============================] - 0s 2ms/step - loss: 0.0612 - accuracy: 0.9883\n",
            "Epoch 51/100\n",
            "14/14 [==============================] - 0s 2ms/step - loss: 0.0606 - accuracy: 0.9883\n",
            "Epoch 52/100\n",
            "14/14 [==============================] - 0s 2ms/step - loss: 0.0602 - accuracy: 0.9883\n",
            "Epoch 53/100\n",
            "14/14 [==============================] - 0s 6ms/step - loss: 0.0596 - accuracy: 0.9883\n",
            "Epoch 54/100\n",
            "14/14 [==============================] - 0s 3ms/step - loss: 0.0591 - accuracy: 0.9883\n",
            "Epoch 55/100\n",
            "14/14 [==============================] - 0s 4ms/step - loss: 0.0586 - accuracy: 0.9883\n",
            "Epoch 56/100\n",
            "14/14 [==============================] - 0s 3ms/step - loss: 0.0582 - accuracy: 0.9883\n",
            "Epoch 57/100\n",
            "14/14 [==============================] - 0s 3ms/step - loss: 0.0577 - accuracy: 0.9883\n",
            "Epoch 58/100\n",
            "14/14 [==============================] - 0s 5ms/step - loss: 0.0575 - accuracy: 0.9883\n",
            "Epoch 59/100\n",
            "14/14 [==============================] - 0s 6ms/step - loss: 0.0568 - accuracy: 0.9883\n",
            "Epoch 60/100\n",
            "14/14 [==============================] - 0s 4ms/step - loss: 0.0564 - accuracy: 0.9883\n",
            "Epoch 61/100\n",
            "14/14 [==============================] - 0s 6ms/step - loss: 0.0560 - accuracy: 0.9883\n",
            "Epoch 62/100\n",
            "14/14 [==============================] - 0s 5ms/step - loss: 0.0555 - accuracy: 0.9883\n",
            "Epoch 63/100\n",
            "14/14 [==============================] - 0s 9ms/step - loss: 0.0553 - accuracy: 0.9883\n",
            "Epoch 64/100\n",
            "14/14 [==============================] - 0s 6ms/step - loss: 0.0549 - accuracy: 0.9883\n",
            "Epoch 65/100\n",
            "14/14 [==============================] - 0s 3ms/step - loss: 0.0547 - accuracy: 0.9883\n",
            "Epoch 66/100\n",
            "14/14 [==============================] - 0s 7ms/step - loss: 0.0544 - accuracy: 0.9883\n",
            "Epoch 67/100\n",
            "14/14 [==============================] - 0s 8ms/step - loss: 0.0540 - accuracy: 0.9883\n",
            "Epoch 68/100\n",
            "14/14 [==============================] - 0s 6ms/step - loss: 0.0535 - accuracy: 0.9883\n",
            "Epoch 69/100\n",
            "14/14 [==============================] - 0s 4ms/step - loss: 0.0531 - accuracy: 0.9883\n",
            "Epoch 70/100\n",
            "14/14 [==============================] - 0s 3ms/step - loss: 0.0527 - accuracy: 0.9883\n",
            "Epoch 71/100\n",
            "14/14 [==============================] - 0s 5ms/step - loss: 0.0524 - accuracy: 0.9883\n",
            "Epoch 72/100\n",
            "14/14 [==============================] - 0s 6ms/step - loss: 0.0521 - accuracy: 0.9883\n",
            "Epoch 73/100\n",
            "14/14 [==============================] - 0s 4ms/step - loss: 0.0516 - accuracy: 0.9883\n",
            "Epoch 74/100\n",
            "14/14 [==============================] - 0s 4ms/step - loss: 0.0512 - accuracy: 0.9883\n",
            "Epoch 75/100\n",
            "14/14 [==============================] - 0s 5ms/step - loss: 0.0508 - accuracy: 0.9883\n",
            "Epoch 76/100\n",
            "14/14 [==============================] - 0s 3ms/step - loss: 0.0505 - accuracy: 0.9883\n",
            "Epoch 77/100\n",
            "14/14 [==============================] - 0s 6ms/step - loss: 0.0501 - accuracy: 0.9883\n",
            "Epoch 78/100\n",
            "14/14 [==============================] - 0s 7ms/step - loss: 0.0497 - accuracy: 0.9883\n",
            "Epoch 79/100\n",
            "14/14 [==============================] - 0s 10ms/step - loss: 0.0492 - accuracy: 0.9883\n",
            "Epoch 80/100\n",
            "14/14 [==============================] - 0s 7ms/step - loss: 0.0488 - accuracy: 0.9883\n",
            "Epoch 81/100\n",
            "14/14 [==============================] - 0s 5ms/step - loss: 0.0484 - accuracy: 0.9883\n",
            "Epoch 82/100\n",
            "14/14 [==============================] - 0s 3ms/step - loss: 0.0480 - accuracy: 0.9883\n",
            "Epoch 83/100\n",
            "14/14 [==============================] - 0s 3ms/step - loss: 0.0476 - accuracy: 0.9883\n",
            "Epoch 84/100\n",
            "14/14 [==============================] - 0s 3ms/step - loss: 0.0470 - accuracy: 0.9883\n",
            "Epoch 85/100\n",
            "14/14 [==============================] - 0s 4ms/step - loss: 0.0466 - accuracy: 0.9883\n",
            "Epoch 86/100\n",
            "14/14 [==============================] - 0s 5ms/step - loss: 0.0464 - accuracy: 0.9883\n",
            "Epoch 87/100\n",
            "14/14 [==============================] - 0s 4ms/step - loss: 0.0459 - accuracy: 0.9883\n",
            "Epoch 88/100\n",
            "14/14 [==============================] - 0s 7ms/step - loss: 0.0456 - accuracy: 0.9883\n",
            "Epoch 89/100\n",
            "14/14 [==============================] - 0s 9ms/step - loss: 0.0455 - accuracy: 0.9883\n",
            "Epoch 90/100\n",
            "14/14 [==============================] - 0s 10ms/step - loss: 0.0448 - accuracy: 0.9883\n",
            "Epoch 91/100\n",
            "14/14 [==============================] - 0s 5ms/step - loss: 0.0445 - accuracy: 0.9883\n",
            "Epoch 92/100\n",
            "14/14 [==============================] - 0s 6ms/step - loss: 0.0442 - accuracy: 0.9906\n",
            "Epoch 93/100\n",
            "14/14 [==============================] - 0s 6ms/step - loss: 0.0440 - accuracy: 0.9906\n",
            "Epoch 94/100\n",
            "14/14 [==============================] - 0s 5ms/step - loss: 0.0435 - accuracy: 0.9906\n",
            "Epoch 95/100\n",
            "14/14 [==============================] - 0s 5ms/step - loss: 0.0433 - accuracy: 0.9906\n",
            "Epoch 96/100\n",
            "14/14 [==============================] - 0s 5ms/step - loss: 0.0430 - accuracy: 0.9906\n",
            "Epoch 97/100\n",
            "14/14 [==============================] - 0s 6ms/step - loss: 0.0426 - accuracy: 0.9906\n",
            "Epoch 98/100\n",
            "14/14 [==============================] - 0s 7ms/step - loss: 0.0424 - accuracy: 0.9906\n",
            "Epoch 99/100\n",
            "14/14 [==============================] - 0s 5ms/step - loss: 0.0421 - accuracy: 0.9906\n",
            "Epoch 100/100\n",
            "14/14 [==============================] - 0s 5ms/step - loss: 0.0419 - accuracy: 0.9906\n",
            "5/5 [==============================] - 0s 3ms/step\n",
            "\n",
            "Accuracy Score:\n",
            "0.965034965034965\n",
            "\n",
            "Confusion Matrix:\n",
            "[[88  2]\n",
            " [ 3 50]]\n",
            "\n",
            "Classification Report:\n",
            "              precision    recall  f1-score   support\n",
            "\n",
            "           0       0.97      0.98      0.97        90\n",
            "           1       0.96      0.94      0.95        53\n",
            "\n",
            "    accuracy                           0.97       143\n",
            "   macro avg       0.96      0.96      0.96       143\n",
            "weighted avg       0.96      0.97      0.96       143\n",
            "\n"
          ]
        }
      ]
    },
    {
      "cell_type": "markdown",
      "source": [
        "Output tersebut menunjukkan hasil pelatihan model Neural Network selama 100 epochs. Setiap epoch menunjukkan nilai 'loss' (fungsi kerugian) dan 'accuracy' (akurasi) model pada data latih. Akurasi meningkat sementara loss menurun selama pelatihan.\n",
        "\\\n",
        "\\\n",
        "Model memiliki akurasi sekitar 96.5%, dengan kebanyakan prediksi yang benar. Confusion matrix menunjukkan 88 prediksi True Negative, 50 prediksi True Positive, 3 prediksi False Negative, dan 2 prediksi False Positive. Classification report menunjukkan precision, recall, dan f1-score untuk setiap kelas target, serta jumlah sampel dalam masing-masing kelas. Overall, model ini memiliki kinerja yang baik dengan akurasi tinggi dan seimbang antara precision dan recall untuk kedua kelas target."
      ],
      "metadata": {
        "id": "0F_5nM5XiPDi"
      }
    },
    {
      "cell_type": "markdown",
      "source": [
        "# Kesimpulan"
      ],
      "metadata": {
        "id": "8TJQ43WsigYy"
      }
    },
    {
      "cell_type": "markdown",
      "source": [
        "Kesimpulannya, model Neural Network yang dilatih telah menunjukkan kinerja yang baik dalam melakukan klasifikasi. Dengan akurasi sekitar 96.5%, model tersebut secara efektif memprediksi kelas target dengan sebagian besar prediksi yang benar. Confusion matrix menunjukkan bahwa model memiliki sedikit kesalahan dalam memprediksi kelas, dengan jumlah False Positive dan False Negative yang rendah. Hasil dari classification report menunjukkan bahwa model memiliki precision, recall, dan f1-score yang baik untuk kedua kelas target, serta jumlah sampel yang seimbang dalam masing-masing kelas. Dengan demikian, model ini dapat dianggap layak dan dapat diandalkan untuk digunakan dalam tugas klasifikasi tersebut."
      ],
      "metadata": {
        "id": "TCf7ZX-Rii4p"
      }
    }
  ],
  "metadata": {
    "colab": {
      "provenance": []
    },
    "kernelspec": {
      "display_name": "Python 3",
      "name": "python3"
    },
    "language_info": {
      "name": "python"
    }
  },
  "nbformat": 4,
  "nbformat_minor": 0
}