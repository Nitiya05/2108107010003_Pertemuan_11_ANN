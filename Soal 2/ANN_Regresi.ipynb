{
  "nbformat": 4,
  "nbformat_minor": 0,
  "metadata": {
    "colab": {
      "provenance": []
    },
    "kernelspec": {
      "name": "python3",
      "display_name": "Python 3"
    },
    "language_info": {
      "name": "python"
    }
  },
  "cells": [
    {
      "cell_type": "markdown",
      "source": [
        "# ANN-regresi"
      ],
      "metadata": {
        "id": "N2oUzDICjPzL"
      }
    },
    {
      "cell_type": "markdown",
      "source": [
        "**Dataset** ini diambil dari laman : https://www.kaggle.com/code/heeraldedhia/regression-on-diamonds-dataset-95-score/input\n",
        "\n",
        "\n",
        "---\n",
        "\n",
        "\n",
        "\n",
        "**Studi Kasus :** Prediksi Harga Berlian dengan Regresi Linear Sederhana dan Polynomial.\n",
        "\n",
        "Dataset klasik ini berisi harga dan atribut lainnya dari hampir 54.000 berlian.\n",
        "\n",
        "**Deskripsi Kolom**\n",
        "\n",
        "*   **price** price in US dollars (\\$326--\\$18,823)\n",
        "*  **carat** weight of the diamond (0.2--5.01)\n",
        "*  **cut** quality of the cut (Fair, Good, Very Good, Premium, Ideal)\n",
        "*  **color** diamond colour, from J (worst) to D (best)\n",
        "*  **clarity** a measurement of how clear the diamond is (I1 (worst), SI2, SI1, VS2, VS1, VVS2, VVS1, IF (best))\n",
        "*  **x** length in mm (0--10.74)\n",
        "*  **y** width in mm (0--58.9)\n",
        "*  **z** depth in mm (0--31.8)\n",
        "*  **depth** total depth percentage = z / mean(x, y) = 2 * z / (x + y) (43--79)\n",
        "*  **table** width of top of diamond relative to widest point (43--95)"
      ],
      "metadata": {
        "id": "ngdzUzJxi7g4"
      }
    },
    {
      "cell_type": "code",
      "source": [
        "#import library\n",
        "import numpy as np\n",
        "import pandas as pd\n",
        "import matplotlib.pyplot as plt\n",
        "from sklearn.model_selection import train_test_split\n",
        "from sklearn.preprocessing import StandardScaler\n",
        "from sklearn.metrics import mean_squared_error, r2_score\n",
        "import tensorflow as tf\n",
        "from tensorflow.keras.models import Sequential\n",
        "from tensorflow.keras.layers import Dense"
      ],
      "metadata": {
        "id": "CMZbhvuKi7g5"
      },
      "execution_count": 2,
      "outputs": []
    },
    {
      "cell_type": "markdown",
      "source": [
        "Kode tersebut digunakan untuk membangun, melatih, dan mengevaluasi model Artificial Neural Network (ANN) menggunakan TensorFlow dan Keras. Itu juga melakukan pra-pemrosesan data seperti pembagian dataset, normalisasi, dan penanganan nilai yang hilang."
      ],
      "metadata": {
        "id": "ldbRFKDqjGUG"
      }
    },
    {
      "cell_type": "markdown",
      "source": [
        "# EDA"
      ],
      "metadata": {
        "id": "lxZnhPHPjZZu"
      }
    },
    {
      "cell_type": "code",
      "source": [
        "# Load the dataset\n",
        "dataset = pd.read_csv(\"diamonds.csv\")\n",
        "\n",
        "# Select features and target\n",
        "X = dataset[['carat']]\n",
        "y = dataset['price']\n",
        "\n",
        "# Split the dataset into training and testing sets\n",
        "X_train, X_test, y_train, y_test = train_test_split(X, y, test_size=0.2, random_state=42)"
      ],
      "metadata": {
        "id": "NNwPhIxmcCwf"
      },
      "execution_count": 3,
      "outputs": []
    },
    {
      "cell_type": "markdown",
      "source": [
        "Kode tersebut melakukan tiga hal: memuat dataset 'diamonds.csv', memilih fitur ('carat') dan target ('price'), serta membagi dataset menjadi data latih dan data uji dengan rasio 80:20."
      ],
      "metadata": {
        "id": "aJQc-CsXj_5F"
      }
    },
    {
      "cell_type": "markdown",
      "source": [
        "# Processing Data"
      ],
      "metadata": {
        "id": "nDP2_ZlyjdGu"
      }
    },
    {
      "cell_type": "code",
      "source": [
        "# Feature scaling\n",
        "sc_X = StandardScaler()\n",
        "sc_y = StandardScaler()\n",
        "X_train_scaled = sc_X.fit_transform(X_train)\n",
        "y_train_scaled = sc_y.fit_transform(y_train.values.reshape(-1, 1)).ravel()\n",
        "X_test_scaled = sc_X.transform(X_test)\n",
        "y_test_scaled = sc_y.transform(y_test.values.reshape(-1, 1)).ravel()"
      ],
      "metadata": {
        "id": "RYwxcUJ-HaqC"
      },
      "execution_count": 4,
      "outputs": []
    },
    {
      "cell_type": "markdown",
      "source": [
        "Kode tersebut melakukan penskalaan fitur dan target menggunakan StandardScaler dari scikit-learn. Fitur ('carat') dan target ('price') diubah skala menggunakan scaler yang sama. Data latih dan data uji diproses dengan scaler yang telah dilatih pada data latih, sehingga nilai target diubah menjadi skala yang sama dengan fitur."
      ],
      "metadata": {
        "id": "h6XfQKA3kGlz"
      }
    },
    {
      "cell_type": "markdown",
      "source": [
        "# Pembangunan Model"
      ],
      "metadata": {
        "id": "8VuYWtCYjgjm"
      }
    },
    {
      "cell_type": "code",
      "source": [
        "# Build the ANN model\n",
        "ann_model = Sequential([\n",
        "    Dense(6, activation='relu', input_shape=(1,)),\n",
        "    Dense(6, activation='relu'),\n",
        "    Dense(1)\n",
        "])\n",
        "\n",
        "# Compile the model\n",
        "ann_model.compile(optimizer='adam', loss='mean_squared_error')"
      ],
      "metadata": {
        "id": "h-sj9gxXjTcl"
      },
      "execution_count": 6,
      "outputs": []
    },
    {
      "cell_type": "markdown",
      "source": [
        "Kode ini membangun sebuah model Neural Network (ANN) menggunakan Keras dengan konfigurasi berikut:\n",
        "\n",
        "1. **Lapisan Input**: Lapisan pertama memiliki 6 neuron dan menggunakan fungsi aktivasi ReLU. Ini juga menentukan bentuk input yang diterima oleh model, yaitu satu fitur.\n",
        "\n",
        "2. **Lapisan Tersembunyi**: Lapisan kedua juga memiliki 6 neuron dengan fungsi aktivasi ReLU. Ini memberikan model lebih banyak kapasitas untuk mempelajari pola yang kompleks dari data.\n",
        "\n",
        "3. **Lapisan Output**: Lapisan terakhir memiliki 1 neuron karena ini adalah masalah regresi, di mana kita ingin memprediksi nilai tunggal. Lapisan ini tidak memiliki fungsi aktivasi, yang berarti outputnya adalah nilai kontinu.\n",
        "\n",
        "Setelah membangun model, kita mengkompilasinya dengan menggunakan optimizer 'adam' dan fungsi kerugian 'mean_squared_error', yang cocok untuk masalah regresi di mana kita ingin meminimalkan selisih antara prediksi dan nilai sebenarnya."
      ],
      "metadata": {
        "id": "Oq3BpWaRkf-L"
      }
    },
    {
      "cell_type": "markdown",
      "source": [
        "# Evaluasi dan Pengujian"
      ],
      "metadata": {
        "id": "aLSEwcYaji6t"
      }
    },
    {
      "cell_type": "code",
      "source": [
        "# Train the model\n",
        "history = ann_model.fit(X_train_scaled, y_train_scaled, epochs=100, batch_size=32, verbose=1, validation_split=0.2)\n",
        "\n",
        "# Predictions\n",
        "y_pred_scaled_ann = ann_model.predict(X_test_scaled)\n",
        "y_pred_ann = sc_y.inverse_transform(y_pred_scaled_ann).ravel()\n",
        "\n",
        "# Model evaluation\n",
        "mse_ann = mean_squared_error(y_test, y_pred_ann)\n",
        "r2_ann = r2_score(y_test, y_pred_ann)\n",
        "print(\"ANN Model - Mean Squared Error:\", mse_ann)\n",
        "print(\"ANN Model - R-squared:\", r2_ann)\n",
        "\n",
        "# Visualizing the ANN results\n",
        "plt.figure(figsize=(8, 6))\n",
        "plt.scatter(X_test, y_test, color='red', label='Actual')\n",
        "plt.scatter(X_test, y_pred_ann, color='purple', label='Predicted (ANN)')\n",
        "plt.title('Artificial Neural Network (ANN) Prediction')\n",
        "plt.xlabel('Carat')\n",
        "plt.ylabel('Price')\n",
        "plt.legend()\n",
        "plt.show()"
      ],
      "metadata": {
        "colab": {
          "base_uri": "https://localhost:8080/",
          "height": 1000
        },
        "id": "nUMUxr3hjWjG",
        "outputId": "5e36820f-35e3-4654-e642-8f7986734530"
      },
      "execution_count": 7,
      "outputs": [
        {
          "output_type": "stream",
          "name": "stdout",
          "text": [
            "Epoch 1/100\n",
            "1079/1079 [==============================] - 5s 4ms/step - loss: 0.2369 - val_loss: 0.1349\n",
            "Epoch 2/100\n",
            "1079/1079 [==============================] - 2s 2ms/step - loss: 0.1376 - val_loss: 0.1341\n",
            "Epoch 3/100\n",
            "1079/1079 [==============================] - 3s 3ms/step - loss: 0.1368 - val_loss: 0.1341\n",
            "Epoch 4/100\n",
            "1079/1079 [==============================] - 2s 2ms/step - loss: 0.1363 - val_loss: 0.1332\n",
            "Epoch 5/100\n",
            "1079/1079 [==============================] - 3s 3ms/step - loss: 0.1357 - val_loss: 0.1322\n",
            "Epoch 6/100\n",
            "1079/1079 [==============================] - 4s 4ms/step - loss: 0.1354 - val_loss: 0.1318\n",
            "Epoch 7/100\n",
            "1079/1079 [==============================] - 3s 3ms/step - loss: 0.1349 - val_loss: 0.1316\n",
            "Epoch 8/100\n",
            "1079/1079 [==============================] - 3s 2ms/step - loss: 0.1347 - val_loss: 0.1319\n",
            "Epoch 9/100\n",
            "1079/1079 [==============================] - 2s 2ms/step - loss: 0.1346 - val_loss: 0.1309\n",
            "Epoch 10/100\n",
            "1079/1079 [==============================] - 2s 2ms/step - loss: 0.1342 - val_loss: 0.1309\n",
            "Epoch 11/100\n",
            "1079/1079 [==============================] - 2s 2ms/step - loss: 0.1340 - val_loss: 0.1306\n",
            "Epoch 12/100\n",
            "1079/1079 [==============================] - 2s 2ms/step - loss: 0.1338 - val_loss: 0.1311\n",
            "Epoch 13/100\n",
            "1079/1079 [==============================] - 3s 3ms/step - loss: 0.1336 - val_loss: 0.1303\n",
            "Epoch 14/100\n",
            "1079/1079 [==============================] - 2s 2ms/step - loss: 0.1335 - val_loss: 0.1295\n",
            "Epoch 15/100\n",
            "1079/1079 [==============================] - 2s 2ms/step - loss: 0.1333 - val_loss: 0.1300\n",
            "Epoch 16/100\n",
            "1079/1079 [==============================] - 4s 3ms/step - loss: 0.1331 - val_loss: 0.1299\n",
            "Epoch 17/100\n",
            "1079/1079 [==============================] - 2s 2ms/step - loss: 0.1328 - val_loss: 0.1297\n",
            "Epoch 18/100\n",
            "1079/1079 [==============================] - 3s 2ms/step - loss: 0.1326 - val_loss: 0.1303\n",
            "Epoch 19/100\n",
            "1079/1079 [==============================] - 4s 4ms/step - loss: 0.1328 - val_loss: 0.1289\n",
            "Epoch 20/100\n",
            "1079/1079 [==============================] - 4s 4ms/step - loss: 0.1325 - val_loss: 0.1287\n",
            "Epoch 21/100\n",
            "1079/1079 [==============================] - 3s 3ms/step - loss: 0.1324 - val_loss: 0.1286\n",
            "Epoch 22/100\n",
            "1079/1079 [==============================] - 2s 2ms/step - loss: 0.1324 - val_loss: 0.1314\n",
            "Epoch 23/100\n",
            "1079/1079 [==============================] - 2s 2ms/step - loss: 0.1322 - val_loss: 0.1289\n",
            "Epoch 24/100\n",
            "1079/1079 [==============================] - 2s 2ms/step - loss: 0.1320 - val_loss: 0.1294\n",
            "Epoch 25/100\n",
            "1079/1079 [==============================] - 2s 2ms/step - loss: 0.1322 - val_loss: 0.1285\n",
            "Epoch 26/100\n",
            "1079/1079 [==============================] - 2s 2ms/step - loss: 0.1319 - val_loss: 0.1285\n",
            "Epoch 27/100\n",
            "1079/1079 [==============================] - 3s 3ms/step - loss: 0.1318 - val_loss: 0.1279\n",
            "Epoch 28/100\n",
            "1079/1079 [==============================] - 2s 2ms/step - loss: 0.1319 - val_loss: 0.1282\n",
            "Epoch 29/100\n",
            "1079/1079 [==============================] - 2s 2ms/step - loss: 0.1318 - val_loss: 0.1301\n",
            "Epoch 30/100\n",
            "1079/1079 [==============================] - 2s 2ms/step - loss: 0.1317 - val_loss: 0.1281\n",
            "Epoch 31/100\n",
            "1079/1079 [==============================] - 2s 2ms/step - loss: 0.1315 - val_loss: 0.1277\n",
            "Epoch 32/100\n",
            "1079/1079 [==============================] - 3s 3ms/step - loss: 0.1315 - val_loss: 0.1283\n",
            "Epoch 33/100\n",
            "1079/1079 [==============================] - 2s 2ms/step - loss: 0.1314 - val_loss: 0.1279\n",
            "Epoch 34/100\n",
            "1079/1079 [==============================] - 2s 2ms/step - loss: 0.1313 - val_loss: 0.1284\n",
            "Epoch 35/100\n",
            "1079/1079 [==============================] - 2s 2ms/step - loss: 0.1314 - val_loss: 0.1284\n",
            "Epoch 36/100\n",
            "1079/1079 [==============================] - 3s 2ms/step - loss: 0.1313 - val_loss: 0.1282\n",
            "Epoch 37/100\n",
            "1079/1079 [==============================] - 3s 3ms/step - loss: 0.1311 - val_loss: 0.1275\n",
            "Epoch 38/100\n",
            "1079/1079 [==============================] - 2s 2ms/step - loss: 0.1313 - val_loss: 0.1276\n",
            "Epoch 39/100\n",
            "1079/1079 [==============================] - 2s 2ms/step - loss: 0.1314 - val_loss: 0.1275\n",
            "Epoch 40/100\n",
            "1079/1079 [==============================] - 2s 2ms/step - loss: 0.1313 - val_loss: 0.1274\n",
            "Epoch 41/100\n",
            "1079/1079 [==============================] - 2s 2ms/step - loss: 0.1312 - val_loss: 0.1295\n",
            "Epoch 42/100\n",
            "1079/1079 [==============================] - 2s 2ms/step - loss: 0.1311 - val_loss: 0.1276\n",
            "Epoch 43/100\n",
            "1079/1079 [==============================] - 3s 3ms/step - loss: 0.1311 - val_loss: 0.1280\n",
            "Epoch 44/100\n",
            "1079/1079 [==============================] - 2s 2ms/step - loss: 0.1310 - val_loss: 0.1278\n",
            "Epoch 45/100\n",
            "1079/1079 [==============================] - 2s 2ms/step - loss: 0.1309 - val_loss: 0.1284\n",
            "Epoch 46/100\n",
            "1079/1079 [==============================] - 2s 2ms/step - loss: 0.1311 - val_loss: 0.1276\n",
            "Epoch 47/100\n",
            "1079/1079 [==============================] - 2s 2ms/step - loss: 0.1309 - val_loss: 0.1275\n",
            "Epoch 48/100\n",
            "1079/1079 [==============================] - 3s 2ms/step - loss: 0.1308 - val_loss: 0.1304\n",
            "Epoch 49/100\n",
            "1079/1079 [==============================] - 3s 2ms/step - loss: 0.1310 - val_loss: 0.1274\n",
            "Epoch 50/100\n",
            "1079/1079 [==============================] - 2s 2ms/step - loss: 0.1311 - val_loss: 0.1279\n",
            "Epoch 51/100\n",
            "1079/1079 [==============================] - 2s 2ms/step - loss: 0.1311 - val_loss: 0.1278\n",
            "Epoch 52/100\n",
            "1079/1079 [==============================] - 2s 2ms/step - loss: 0.1308 - val_loss: 0.1278\n",
            "Epoch 53/100\n",
            "1079/1079 [==============================] - 2s 2ms/step - loss: 0.1311 - val_loss: 0.1280\n",
            "Epoch 54/100\n",
            "1079/1079 [==============================] - 3s 3ms/step - loss: 0.1308 - val_loss: 0.1277\n",
            "Epoch 55/100\n",
            "1079/1079 [==============================] - 2s 2ms/step - loss: 0.1310 - val_loss: 0.1276\n",
            "Epoch 56/100\n",
            "1079/1079 [==============================] - 2s 2ms/step - loss: 0.1310 - val_loss: 0.1275\n",
            "Epoch 57/100\n",
            "1079/1079 [==============================] - 2s 2ms/step - loss: 0.1309 - val_loss: 0.1283\n",
            "Epoch 58/100\n",
            "1079/1079 [==============================] - 2s 2ms/step - loss: 0.1309 - val_loss: 0.1280\n",
            "Epoch 59/100\n",
            "1079/1079 [==============================] - 3s 3ms/step - loss: 0.1308 - val_loss: 0.1273\n",
            "Epoch 60/100\n",
            "1079/1079 [==============================] - 2s 2ms/step - loss: 0.1309 - val_loss: 0.1276\n",
            "Epoch 61/100\n",
            "1079/1079 [==============================] - 2s 2ms/step - loss: 0.1307 - val_loss: 0.1279\n",
            "Epoch 62/100\n",
            "1079/1079 [==============================] - 2s 2ms/step - loss: 0.1308 - val_loss: 0.1292\n",
            "Epoch 63/100\n",
            "1079/1079 [==============================] - 3s 3ms/step - loss: 0.1308 - val_loss: 0.1274\n",
            "Epoch 64/100\n",
            "1079/1079 [==============================] - 3s 2ms/step - loss: 0.1309 - val_loss: 0.1272\n",
            "Epoch 65/100\n",
            "1079/1079 [==============================] - 3s 2ms/step - loss: 0.1309 - val_loss: 0.1275\n",
            "Epoch 66/100\n",
            "1079/1079 [==============================] - 2s 2ms/step - loss: 0.1307 - val_loss: 0.1273\n",
            "Epoch 67/100\n",
            "1079/1079 [==============================] - 2s 2ms/step - loss: 0.1309 - val_loss: 0.1279\n",
            "Epoch 68/100\n",
            "1079/1079 [==============================] - 2s 2ms/step - loss: 0.1310 - val_loss: 0.1282\n",
            "Epoch 69/100\n",
            "1079/1079 [==============================] - 2s 2ms/step - loss: 0.1308 - val_loss: 0.1279\n",
            "Epoch 70/100\n",
            "1079/1079 [==============================] - 3s 3ms/step - loss: 0.1308 - val_loss: 0.1276\n",
            "Epoch 71/100\n",
            "1079/1079 [==============================] - 2s 2ms/step - loss: 0.1310 - val_loss: 0.1271\n",
            "Epoch 72/100\n",
            "1079/1079 [==============================] - 2s 2ms/step - loss: 0.1309 - val_loss: 0.1272\n",
            "Epoch 73/100\n",
            "1079/1079 [==============================] - 2s 2ms/step - loss: 0.1308 - val_loss: 0.1272\n",
            "Epoch 74/100\n",
            "1079/1079 [==============================] - 2s 2ms/step - loss: 0.1308 - val_loss: 0.1272\n",
            "Epoch 75/100\n",
            "1079/1079 [==============================] - 2s 2ms/step - loss: 0.1308 - val_loss: 0.1274\n",
            "Epoch 76/100\n",
            "1079/1079 [==============================] - 3s 3ms/step - loss: 0.1308 - val_loss: 0.1271\n",
            "Epoch 77/100\n",
            "1079/1079 [==============================] - 2s 2ms/step - loss: 0.1307 - val_loss: 0.1272\n",
            "Epoch 78/100\n",
            "1079/1079 [==============================] - 2s 2ms/step - loss: 0.1309 - val_loss: 0.1289\n",
            "Epoch 79/100\n",
            "1079/1079 [==============================] - 2s 2ms/step - loss: 0.1306 - val_loss: 0.1292\n",
            "Epoch 80/100\n",
            "1079/1079 [==============================] - 2s 2ms/step - loss: 0.1307 - val_loss: 0.1273\n",
            "Epoch 81/100\n",
            "1079/1079 [==============================] - 3s 3ms/step - loss: 0.1308 - val_loss: 0.1277\n",
            "Epoch 82/100\n",
            "1079/1079 [==============================] - 2s 2ms/step - loss: 0.1310 - val_loss: 0.1281\n",
            "Epoch 83/100\n",
            "1079/1079 [==============================] - 2s 2ms/step - loss: 0.1309 - val_loss: 0.1275\n",
            "Epoch 84/100\n",
            "1079/1079 [==============================] - 2s 2ms/step - loss: 0.1309 - val_loss: 0.1272\n",
            "Epoch 85/100\n",
            "1079/1079 [==============================] - 2s 2ms/step - loss: 0.1308 - val_loss: 0.1270\n",
            "Epoch 86/100\n",
            "1079/1079 [==============================] - 2s 2ms/step - loss: 0.1309 - val_loss: 0.1278\n",
            "Epoch 87/100\n",
            "1079/1079 [==============================] - 3s 3ms/step - loss: 0.1308 - val_loss: 0.1272\n",
            "Epoch 88/100\n",
            "1079/1079 [==============================] - 2s 2ms/step - loss: 0.1310 - val_loss: 0.1274\n",
            "Epoch 89/100\n",
            "1079/1079 [==============================] - 2s 2ms/step - loss: 0.1308 - val_loss: 0.1271\n",
            "Epoch 90/100\n",
            "1079/1079 [==============================] - 2s 2ms/step - loss: 0.1306 - val_loss: 0.1276\n",
            "Epoch 91/100\n",
            "1079/1079 [==============================] - 2s 2ms/step - loss: 0.1309 - val_loss: 0.1273\n",
            "Epoch 92/100\n",
            "1079/1079 [==============================] - 2s 2ms/step - loss: 0.1309 - val_loss: 0.1271\n",
            "Epoch 93/100\n",
            "1079/1079 [==============================] - 3s 3ms/step - loss: 0.1307 - val_loss: 0.1308\n",
            "Epoch 94/100\n",
            "1079/1079 [==============================] - 2s 2ms/step - loss: 0.1307 - val_loss: 0.1282\n",
            "Epoch 95/100\n",
            "1079/1079 [==============================] - 2s 2ms/step - loss: 0.1307 - val_loss: 0.1270\n",
            "Epoch 96/100\n",
            "1079/1079 [==============================] - 2s 2ms/step - loss: 0.1307 - val_loss: 0.1286\n",
            "Epoch 97/100\n",
            "1079/1079 [==============================] - 2s 2ms/step - loss: 0.1306 - val_loss: 0.1278\n",
            "Epoch 98/100\n",
            "1079/1079 [==============================] - 4s 3ms/step - loss: 0.1309 - val_loss: 0.1293\n",
            "Epoch 99/100\n",
            "1079/1079 [==============================] - 2s 2ms/step - loss: 0.1308 - val_loss: 0.1278\n",
            "Epoch 100/100\n",
            "1079/1079 [==============================] - 2s 2ms/step - loss: 0.1305 - val_loss: 0.1274\n",
            "338/338 [==============================] - 0s 1ms/step\n",
            "ANN Model - Mean Squared Error: 2054677.8470757403\n",
            "ANN Model - R-squared: 0.8707491397965639\n"
          ]
        },
        {
          "output_type": "display_data",
          "data": {
            "text/plain": [
              "<Figure size 800x600 with 1 Axes>"
            ],
            "image/png": "[encoded data removed]"
          },
          "metadata": {}
        }
      ]
    },
    {
      "cell_type": "markdown",
      "source": [
        "Ini adalah output dari proses pelatihan model Neural Network selama 100 epoch. Setiap epoch menunjukkan nilai loss (fungsi kerugian) yang dievaluasi pada data pelatihan (loss) dan data validasi (val_loss). Proses pelatihan dimulai dengan nilai loss yang relatif tinggi dan kemudian secara bertahap menurun seiring dengan jumlah epoch.\n",
        "\n",
        "Pada akhir pelatihan, nilai loss pada data pelatihan mencapai sekitar 0.1305, sedangkan nilai loss pada data validasi adalah sekitar 0.1274. Hal ini menunjukkan bahwa model mungkin telah mengalami sedikit overfitting karena nilai loss pada data pelatihan sedikit lebih tinggi dibandingkan dengan data validasi. Namun, perbedaannya tidak signifikan.\n",
        "\n",
        "\\\n",
        "MSE adalah metrik yang mengukur seberapa dekat prediksi model dengan nilai sebenarnya, dengan nilai lebih rendah menandakan kinerja yang lebih baik. Di sini, nilai MSE sekitar 2054677.8470757403. R-squared adalah metrik yang menunjukkan seberapa baik model cocok dengan data, dengan nilai lebih tinggi menunjukkan kecocokan yang lebih baik. Nilai R-squared sekitar 0.8707, yang berarti sekitar 87.07% variabilitas data target dapat dijelaskan oleh model."
      ],
      "metadata": {
        "id": "GIC9Z_Rllik8"
      }
    },
    {
      "cell_type": "markdown",
      "source": [
        "# Kesimpulan"
      ],
      "metadata": {
        "id": "EDKkV8NylzaD"
      }
    },
    {
      "cell_type": "markdown",
      "source": [
        "Output menunjukkan bahwa model Neural Network telah melalui pelatihan selama 100 epoch. Loss pada data pelatihan dan validasi telah menurun secara bertahap selama pelatihan, meskipun ada sedikit tanda overfitting karena loss pada data pelatihan sedikit lebih tinggi daripada data validasi. Meskipun demikian, perbedaannya tidak signifikan.\n",
        "\n",
        "Selain itu, metrik evaluasi lainnya menunjukkan bahwa model memiliki kinerja yang baik. MSE (Mean Squared Error) yang rendah menunjukkan bahwa prediksi model cukup dekat dengan nilai sebenarnya, sementara R-squared yang tinggi menandakan bahwa model cukup baik dalam menjelaskan variabilitas data target.\n",
        "\n",
        "Dengan demikian, kesimpulannya adalah bahwa model Neural Network ini memiliki kinerja yang baik dalam memodelkan hubungan antara fitur input (X) dan target output (y) berdasarkan hasil evaluasi metrik yang ada."
      ],
      "metadata": {
        "id": "gDelawAgl2T_"
      }
    }
  ]
}