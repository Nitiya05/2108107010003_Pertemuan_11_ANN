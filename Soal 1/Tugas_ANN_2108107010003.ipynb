{
  "cells": [
    {
      "cell_type": "markdown",
      "source": [
        "# Artificial Neural Networks"
      ],
      "metadata": {
        "id": "xFh_XomqXWH3"
      }
    },
    {
      "cell_type": "markdown",
      "source": [
        "Artificial Neural Networks (ANN) adalah model komputasi yang terinspirasi oleh jaringan saraf biologis. Mereka terdiri dari neuron terhubung dalam lapisan yang menerima input, melakukan pemrosesan, dan menghasilkan output. ANN digunakan untuk mempelajari pola kompleks dalam data, seperti pengenalan pola, pengenalan gambar, dan prediksi. Proses pelatihan ANN melibatkan propagasi maju untuk membuat prediksi dan propagasi balik untuk memperbarui bobot agar prediksi semakin akurat."
      ],
      "metadata": {
        "id": "KzMCI-uyXwNb"
      }
    },
    {
      "cell_type": "code",
      "source": [
        "# Installisasi tensorflow\n",
        "!pip install tensorflow"
      ],
      "metadata": {
        "id": "FYwIDR1uX78P"
      },
      "execution_count": null,
      "outputs": []
    },
    {
      "cell_type": "code",
      "execution_count": 1,
      "metadata": {
        "colab": {
          "base_uri": "https://localhost:8080/"
        },
        "id": "Lq4yY7Ri2Nlj",
        "outputId": "690ca216-851a-42e6-a92b-65f508926cec"
      },
      "outputs": [
        {
          "output_type": "stream",
          "name": "stdout",
          "text": [
            "2.15.0\n"
          ]
        }
      ],
      "source": [
        "# Memeriksa veri tensorflow\n",
        "import tensorflow as tf\n",
        "print(tf.__version__)"
      ]
    },
    {
      "cell_type": "markdown",
      "source": [
        "**Dataset yang digunakan adalah Data_bank_chun.csv. Bisa di akses di folder Soal1.**\n",
        "\n",
        "Informasi yang kita miliki adalah;\n",
        "\n",
        "1. RowNumber menunjukkan ia baris ke berapa.\n",
        "2. CustomerId adalah identitas unik setiap costumer.\n",
        "3. Surname adalah nama belakang pelanggan.\n",
        "4. CreditScore adalah skor kredit yang diberikan oleh bank. Hanya bank yang tahu cara menghitung skor ini.\n",
        "5. Geography adalah negara domisili nasabah.\n",
        "6. Gender adalah jenis kelamin.\n",
        "7. Age adalah usia.\n",
        "8. Tenure adalah berapa lama (dalam tahun) mereka sudah menjadi nasabah bank.\n",
        "9. Balance adalah tabungan nasabah saat ini (atau saat terakhir sebelum keluar sebagai nasabah).\n",
        "10. NumberOfProduct adalah berapa banyak produk bank yang dimiliki oleh nasabah pada saat ini (atau saat terakhir).\n",
        "11. HasCrCard adalah kondisi apakah saat ini nasabah memiliki kartu kredit di bank ini (1) atau tidak (0).\n",
        "12. IsActiveMember adalah kondisi apakah pelanggan saat ini aktif (1) menjadi member aktif atau tidak (0). Hanya bank yang tahu cara membuat status ini, misal apakah nasabah aktif melakukan transaksi di bulan terakhir, apakah memiliki pinjaman di bulan terakhir, dan seterusnya.\n",
        "13. EstimatedSalary adalah estimasi gaji yang dibuat oleh bank. Tentu saja bank tidak tahu gaji asli dari nasabah, tapi bank sudah membuat perkiraan gaji berdasarkan pola keluar masuknya uang nasabah tersebut.\n",
        "14. Exited adalah status apakah nasabah ini tetap di bank (0) atau keluar dari bank (1)."
      ],
      "metadata": {
        "id": "h8f91VMveJWA"
      }
    },
    {
      "cell_type": "code",
      "execution_count": 2,
      "metadata": {
        "id": "ElhjghmowyiQ"
      },
      "outputs": [],
      "source": [
        "# Mengimpor library yang diperlukan\n",
        "import numpy as np\n",
        "import matplotlib.pyplot as plt\n",
        "import pandas as pd"
      ]
    },
    {
      "cell_type": "markdown",
      "source": [
        "# EDA"
      ],
      "metadata": {
        "id": "5j4sx3FsYSPb"
      }
    },
    {
      "cell_type": "code",
      "execution_count": 3,
      "metadata": {
        "id": "wb1aqGGiv6wL"
      },
      "outputs": [],
      "source": [
        "# Mengimpor dataset\n",
        "dataset = pd.read_csv('Data_bank_churn.csv')\n",
        "#melakukan slicing untuk variabel independen X. Kita memerlukan kolom ke 3-12\n",
        "X = dataset.iloc[:, 3:13].values\n",
        "#melakukan slicing untuk variabel dependen y,\n",
        "#yaitu kolom terakhir yang menunjukkan status keluar/tidaknya pegawai.\n",
        "y = dataset.iloc[:, 13].values"
      ]
    },
    {
      "cell_type": "markdown",
      "source": [
        "# Processing Data"
      ],
      "metadata": {
        "id": "gj1KwMwuY81a"
      }
    },
    {
      "cell_type": "code",
      "execution_count": 4,
      "metadata": {
        "id": "cwS7pXONwaap"
      },
      "outputs": [],
      "source": [
        "# Mengonversi data kategori jenis kelamin menjadi numerik\n",
        "from sklearn.preprocessing import LabelEncoder, OneHotEncoder\n",
        "from sklearn.compose import ColumnTransformer\n",
        "labelencoder = LabelEncoder() #buat label\n",
        "\n",
        "# merubah kolom ke 2 (Gender) menjadi nilai 0, atau\n",
        "X[:, 2] = labelencoder.fit_transform(X[:, 2])\n",
        "# Membuat dummy variable untuk kolom negara\n",
        "\n",
        "columnTransformer = ColumnTransformer([('encoder', OneHotEncoder(), [1])], remainder='passthrough')\n",
        "X = np.array(columnTransformer.fit_transform(X), dtype=np.float64)\n"
      ]
    },
    {
      "cell_type": "code",
      "execution_count": 5,
      "metadata": {
        "id": "ZpdQimftxELx"
      },
      "outputs": [],
      "source": [
        "# Menghilangkan 1 dummy variabel di kolom negara\n",
        "X = X[:, 1:]\n",
        "# Membagi data ke test dan training set\n",
        "from sklearn.model_selection import train_test_split\n",
        "X_train, X_test, y_train, y_test = train_test_split(X, y, test_size = 0.2, random_state = 0)"
      ]
    },
    {
      "cell_type": "code",
      "execution_count": 6,
      "metadata": {
        "id": "g8il1AqaxLfY"
      },
      "outputs": [],
      "source": [
        "# Feature Scaling\n",
        "from sklearn.preprocessing import StandardScaler\n",
        "sc = StandardScaler()\n",
        "X_train = sc.fit_transform(X_train)\n",
        "X_test = sc.transform(X_test)\n"
      ]
    },
    {
      "cell_type": "markdown",
      "source": [
        "# Pembangunan Model"
      ],
      "metadata": {
        "id": "cWgxxJD7aVyr"
      }
    },
    {
      "cell_type": "code",
      "execution_count": 7,
      "metadata": {
        "id": "KYvuZ458xGsZ"
      },
      "outputs": [],
      "source": [
        "# Mengimpor library Keras dan turunannya\n",
        "# Sekarang menggunakan TensorFlow\n",
        "from tensorflow.keras.models import Sequential\n",
        "from tensorflow.keras.layers import Dense\n",
        "\n",
        "# Inisialisasi ANN\n",
        "MesinKlasifikasi = Sequential()\n",
        "\n",
        "# Menambah input layer dan hidden layer pertama\n",
        "MesinKlasifikasi.add(Dense(units = 6, kernel_initializer = 'uniform', activation = 'relu', input_dim = 11))\n",
        "# Menambah hidden layer kedua\n",
        "MesinKlasifikasi.add(Dense(units = 6, kernel_initializer = 'uniform', activation = 'relu'))\n",
        "# Menambah output layer\n",
        "MesinKlasifikasi.add(Dense(units = 1, kernel_initializer = 'uniform', activation = 'sigmoid'))"
      ]
    },
    {
      "cell_type": "markdown",
      "source": [
        "# Evaluasi dan Pengujian"
      ],
      "metadata": {
        "id": "qLOLrM8jaiAr"
      }
    },
    {
      "cell_type": "code",
      "execution_count": 8,
      "metadata": {
        "colab": {
          "base_uri": "https://localhost:8080/"
        },
        "id": "tKc_3XiD2MRz",
        "outputId": "b7054bc6-1609-4296-a8f0-0c2a0d92cfea"
      },
      "outputs": [
        {
          "output_type": "stream",
          "name": "stdout",
          "text": [
            "Epoch 1/100\n",
            "800/800 [==============================] - 4s 3ms/step - loss: 0.4772 - accuracy: 0.7960\n",
            "Epoch 2/100\n",
            "800/800 [==============================] - 2s 2ms/step - loss: 0.4264 - accuracy: 0.7960\n",
            "Epoch 3/100\n",
            "800/800 [==============================] - 2s 2ms/step - loss: 0.4210 - accuracy: 0.8048\n",
            "Epoch 4/100\n",
            "800/800 [==============================] - 2s 2ms/step - loss: 0.4176 - accuracy: 0.8221\n",
            "Epoch 5/100\n",
            "800/800 [==============================] - 2s 2ms/step - loss: 0.4158 - accuracy: 0.8275\n",
            "Epoch 6/100\n",
            "800/800 [==============================] - 2s 2ms/step - loss: 0.4143 - accuracy: 0.8291\n",
            "Epoch 7/100\n",
            "800/800 [==============================] - 3s 3ms/step - loss: 0.4128 - accuracy: 0.8296\n",
            "Epoch 8/100\n",
            "800/800 [==============================] - 2s 3ms/step - loss: 0.4114 - accuracy: 0.8305\n",
            "Epoch 9/100\n",
            "800/800 [==============================] - 2s 2ms/step - loss: 0.4103 - accuracy: 0.8322\n",
            "Epoch 10/100\n",
            "800/800 [==============================] - 2s 2ms/step - loss: 0.4102 - accuracy: 0.8331\n",
            "Epoch 11/100\n",
            "800/800 [==============================] - 2s 2ms/step - loss: 0.4088 - accuracy: 0.8335\n",
            "Epoch 12/100\n",
            "800/800 [==============================] - 2s 2ms/step - loss: 0.4084 - accuracy: 0.8344\n",
            "Epoch 13/100\n",
            "800/800 [==============================] - 2s 2ms/step - loss: 0.4075 - accuracy: 0.8322\n",
            "Epoch 14/100\n",
            "800/800 [==============================] - 3s 4ms/step - loss: 0.4076 - accuracy: 0.8341\n",
            "Epoch 15/100\n",
            "800/800 [==============================] - 2s 2ms/step - loss: 0.4071 - accuracy: 0.8350\n",
            "Epoch 16/100\n",
            "800/800 [==============================] - 2s 3ms/step - loss: 0.4068 - accuracy: 0.8359\n",
            "Epoch 17/100\n",
            "800/800 [==============================] - 2s 2ms/step - loss: 0.4062 - accuracy: 0.8346\n",
            "Epoch 18/100\n",
            "800/800 [==============================] - 2s 2ms/step - loss: 0.4062 - accuracy: 0.8345\n",
            "Epoch 19/100\n",
            "800/800 [==============================] - 2s 3ms/step - loss: 0.4058 - accuracy: 0.8350\n",
            "Epoch 20/100\n",
            "800/800 [==============================] - 3s 3ms/step - loss: 0.4053 - accuracy: 0.8345\n",
            "Epoch 21/100\n",
            "800/800 [==============================] - 2s 3ms/step - loss: 0.4052 - accuracy: 0.8349\n",
            "Epoch 22/100\n",
            "800/800 [==============================] - 2s 2ms/step - loss: 0.4045 - accuracy: 0.8360\n",
            "Epoch 23/100\n",
            "800/800 [==============================] - 2s 2ms/step - loss: 0.4038 - accuracy: 0.8340\n",
            "Epoch 24/100\n",
            "800/800 [==============================] - 2s 2ms/step - loss: 0.4037 - accuracy: 0.8347\n",
            "Epoch 25/100\n",
            "800/800 [==============================] - 2s 2ms/step - loss: 0.4036 - accuracy: 0.8349\n",
            "Epoch 26/100\n",
            "800/800 [==============================] - 2s 3ms/step - loss: 0.4031 - accuracy: 0.8344\n",
            "Epoch 27/100\n",
            "800/800 [==============================] - 2s 3ms/step - loss: 0.4030 - accuracy: 0.8351\n",
            "Epoch 28/100\n",
            "800/800 [==============================] - 2s 2ms/step - loss: 0.4031 - accuracy: 0.8366\n",
            "Epoch 29/100\n",
            "800/800 [==============================] - 2s 2ms/step - loss: 0.4022 - accuracy: 0.8353\n",
            "Epoch 30/100\n",
            "800/800 [==============================] - 2s 2ms/step - loss: 0.4019 - accuracy: 0.8331\n",
            "Epoch 31/100\n",
            "800/800 [==============================] - 2s 3ms/step - loss: 0.4027 - accuracy: 0.8346\n",
            "Epoch 32/100\n",
            "800/800 [==============================] - 2s 2ms/step - loss: 0.4019 - accuracy: 0.8350\n",
            "Epoch 33/100\n",
            "800/800 [==============================] - 3s 4ms/step - loss: 0.4020 - accuracy: 0.8347\n",
            "Epoch 34/100\n",
            "800/800 [==============================] - 2s 2ms/step - loss: 0.4022 - accuracy: 0.8350\n",
            "Epoch 35/100\n",
            "800/800 [==============================] - 1s 2ms/step - loss: 0.4021 - accuracy: 0.8357\n",
            "Epoch 36/100\n",
            "800/800 [==============================] - 2s 2ms/step - loss: 0.4018 - accuracy: 0.8355\n",
            "Epoch 37/100\n",
            "800/800 [==============================] - 2s 2ms/step - loss: 0.4014 - accuracy: 0.8342\n",
            "Epoch 38/100\n",
            "800/800 [==============================] - 2s 2ms/step - loss: 0.4017 - accuracy: 0.8349\n",
            "Epoch 39/100\n",
            "800/800 [==============================] - 2s 2ms/step - loss: 0.4012 - accuracy: 0.8355\n",
            "Epoch 40/100\n",
            "800/800 [==============================] - 3s 3ms/step - loss: 0.4014 - accuracy: 0.8346\n",
            "Epoch 41/100\n",
            "800/800 [==============================] - 2s 2ms/step - loss: 0.4013 - accuracy: 0.8338\n",
            "Epoch 42/100\n",
            "800/800 [==============================] - 2s 2ms/step - loss: 0.4008 - accuracy: 0.8354\n",
            "Epoch 43/100\n",
            "800/800 [==============================] - 2s 2ms/step - loss: 0.4009 - accuracy: 0.8350\n",
            "Epoch 44/100\n",
            "800/800 [==============================] - 2s 2ms/step - loss: 0.4012 - accuracy: 0.8350\n",
            "Epoch 45/100\n",
            "800/800 [==============================] - 2s 3ms/step - loss: 0.4012 - accuracy: 0.8357\n",
            "Epoch 46/100\n",
            "800/800 [==============================] - 3s 3ms/step - loss: 0.4009 - accuracy: 0.8341\n",
            "Epoch 47/100\n",
            "800/800 [==============================] - 2s 3ms/step - loss: 0.4006 - accuracy: 0.8350\n",
            "Epoch 48/100\n",
            "800/800 [==============================] - 2s 3ms/step - loss: 0.4009 - accuracy: 0.8350\n",
            "Epoch 49/100\n",
            "800/800 [==============================] - 2s 2ms/step - loss: 0.4002 - accuracy: 0.8359\n",
            "Epoch 50/100\n",
            "800/800 [==============================] - 2s 3ms/step - loss: 0.4008 - accuracy: 0.8355\n",
            "Epoch 51/100\n",
            "800/800 [==============================] - 2s 3ms/step - loss: 0.4010 - accuracy: 0.8353\n",
            "Epoch 52/100\n",
            "800/800 [==============================] - 3s 3ms/step - loss: 0.4006 - accuracy: 0.8370\n",
            "Epoch 53/100\n",
            "800/800 [==============================] - 2s 3ms/step - loss: 0.4008 - accuracy: 0.8354\n",
            "Epoch 54/100\n",
            "800/800 [==============================] - 2s 2ms/step - loss: 0.4005 - accuracy: 0.8346\n",
            "Epoch 55/100\n",
            "800/800 [==============================] - 2s 3ms/step - loss: 0.4006 - accuracy: 0.8335\n",
            "Epoch 56/100\n",
            "800/800 [==============================] - 2s 3ms/step - loss: 0.4005 - accuracy: 0.8351\n",
            "Epoch 57/100\n",
            "800/800 [==============================] - 2s 2ms/step - loss: 0.4002 - accuracy: 0.8354\n",
            "Epoch 58/100\n",
            "800/800 [==============================] - 3s 4ms/step - loss: 0.4002 - accuracy: 0.8355\n",
            "Epoch 59/100\n",
            "800/800 [==============================] - 2s 3ms/step - loss: 0.4008 - accuracy: 0.8360\n",
            "Epoch 60/100\n",
            "800/800 [==============================] - 2s 3ms/step - loss: 0.4003 - accuracy: 0.8350\n",
            "Epoch 61/100\n",
            "800/800 [==============================] - 2s 3ms/step - loss: 0.4007 - accuracy: 0.8346\n",
            "Epoch 62/100\n",
            "800/800 [==============================] - 2s 2ms/step - loss: 0.3999 - accuracy: 0.8366\n",
            "Epoch 63/100\n",
            "800/800 [==============================] - 2s 3ms/step - loss: 0.4002 - accuracy: 0.8349\n",
            "Epoch 64/100\n",
            "800/800 [==============================] - 3s 3ms/step - loss: 0.4003 - accuracy: 0.8355\n",
            "Epoch 65/100\n",
            "800/800 [==============================] - 2s 2ms/step - loss: 0.4001 - accuracy: 0.8363\n",
            "Epoch 66/100\n",
            "800/800 [==============================] - 2s 3ms/step - loss: 0.4000 - accuracy: 0.8361\n",
            "Epoch 67/100\n",
            "800/800 [==============================] - 2s 2ms/step - loss: 0.4001 - accuracy: 0.8359\n",
            "Epoch 68/100\n",
            "800/800 [==============================] - 2s 2ms/step - loss: 0.4000 - accuracy: 0.8367\n",
            "Epoch 69/100\n",
            "800/800 [==============================] - 2s 2ms/step - loss: 0.4002 - accuracy: 0.8353\n",
            "Epoch 70/100\n",
            "800/800 [==============================] - 3s 4ms/step - loss: 0.4000 - accuracy: 0.8350\n",
            "Epoch 71/100\n",
            "800/800 [==============================] - 2s 3ms/step - loss: 0.4001 - accuracy: 0.8341\n",
            "Epoch 72/100\n",
            "800/800 [==============================] - 2s 3ms/step - loss: 0.4001 - accuracy: 0.8351\n",
            "Epoch 73/100\n",
            "800/800 [==============================] - 2s 2ms/step - loss: 0.4001 - accuracy: 0.8351\n",
            "Epoch 74/100\n",
            "800/800 [==============================] - 2s 3ms/step - loss: 0.4001 - accuracy: 0.8356\n",
            "Epoch 75/100\n",
            "800/800 [==============================] - 2s 3ms/step - loss: 0.4000 - accuracy: 0.8338\n",
            "Epoch 76/100\n",
            "800/800 [==============================] - 3s 3ms/step - loss: 0.3996 - accuracy: 0.8363\n",
            "Epoch 77/100\n",
            "800/800 [==============================] - 2s 2ms/step - loss: 0.3997 - accuracy: 0.8365\n",
            "Epoch 78/100\n",
            "800/800 [==============================] - 2s 2ms/step - loss: 0.3999 - accuracy: 0.8359\n",
            "Epoch 79/100\n",
            "800/800 [==============================] - 2s 3ms/step - loss: 0.3997 - accuracy: 0.8367\n",
            "Epoch 80/100\n",
            "800/800 [==============================] - 2s 3ms/step - loss: 0.3994 - accuracy: 0.8363\n",
            "Epoch 81/100\n",
            "800/800 [==============================] - 2s 3ms/step - loss: 0.3998 - accuracy: 0.8359\n",
            "Epoch 82/100\n",
            "800/800 [==============================] - 3s 3ms/step - loss: 0.3996 - accuracy: 0.8351\n",
            "Epoch 83/100\n",
            "800/800 [==============================] - 2s 3ms/step - loss: 0.3999 - accuracy: 0.8365\n",
            "Epoch 84/100\n",
            "800/800 [==============================] - 2s 3ms/step - loss: 0.3994 - accuracy: 0.8354\n",
            "Epoch 85/100\n",
            "800/800 [==============================] - 2s 3ms/step - loss: 0.4000 - accuracy: 0.8375\n",
            "Epoch 86/100\n",
            "800/800 [==============================] - 2s 3ms/step - loss: 0.3997 - accuracy: 0.8353\n",
            "Epoch 87/100\n",
            "800/800 [==============================] - 3s 4ms/step - loss: 0.3997 - accuracy: 0.8360\n",
            "Epoch 88/100\n",
            "800/800 [==============================] - 2s 3ms/step - loss: 0.3993 - accuracy: 0.8369\n",
            "Epoch 89/100\n",
            "800/800 [==============================] - 2s 2ms/step - loss: 0.3994 - accuracy: 0.8356\n",
            "Epoch 90/100\n",
            "800/800 [==============================] - 2s 2ms/step - loss: 0.3997 - accuracy: 0.8370\n",
            "Epoch 91/100\n",
            "800/800 [==============================] - 2s 2ms/step - loss: 0.3996 - accuracy: 0.8357\n",
            "Epoch 92/100\n",
            "800/800 [==============================] - 2s 2ms/step - loss: 0.3999 - accuracy: 0.8369\n",
            "Epoch 93/100\n",
            "800/800 [==============================] - 2s 2ms/step - loss: 0.3998 - accuracy: 0.8361\n",
            "Epoch 94/100\n",
            "800/800 [==============================] - 3s 3ms/step - loss: 0.3994 - accuracy: 0.8365\n",
            "Epoch 95/100\n",
            "800/800 [==============================] - 2s 2ms/step - loss: 0.3997 - accuracy: 0.8361\n",
            "Epoch 96/100\n",
            "800/800 [==============================] - 2s 2ms/step - loss: 0.3996 - accuracy: 0.8354\n",
            "Epoch 97/100\n",
            "800/800 [==============================] - 2s 2ms/step - loss: 0.3994 - accuracy: 0.8351\n",
            "Epoch 98/100\n",
            "800/800 [==============================] - 2s 2ms/step - loss: 0.3996 - accuracy: 0.8354\n",
            "Epoch 99/100\n",
            "800/800 [==============================] - 2s 2ms/step - loss: 0.3994 - accuracy: 0.8365\n",
            "Epoch 100/100\n",
            "800/800 [==============================] - 3s 3ms/step - loss: 0.3994 - accuracy: 0.8355\n",
            "63/63 [==============================] - 0s 1ms/step\n",
            "Confusion Matrix:\n",
            "[[1545   50]\n",
            " [ 267  138]]\n"
          ]
        }
      ],
      "source": [
        "# Meenjalankan ANN\n",
        "MesinKlasifikasi.compile(optimizer = 'adam', loss = 'binary_crossentropy', metrics = ['accuracy'])\n",
        "# Fitting ANN ke training set\n",
        "MesinKlasifikasi.fit(X_train, y_train, batch_size = 10, epochs = 100)\n",
        "# Memprediksi hasil test set\n",
        "y_pred = MesinKlasifikasi.predict(X_test)\n",
        "y_pred = (y_pred > 0.5)\n",
        "# Membuat confusion matrix\n",
        "from sklearn.metrics import confusion_matrix\n",
        "cm = confusion_matrix(y_test, y_pred)\n",
        "\n",
        "# Mencetak confusion matrix\n",
        "print(\"Confusion Matrix:\")\n",
        "print(cm)"
      ]
    },
    {
      "cell_type": "markdown",
      "source": [
        "Dari hasil training model Artificial Neural Network (ANN) dengan 100 epochs, diperoleh informasi bahwa:\n",
        "\n",
        "Loss function (binary crossentropy) semakin menurun seiring dengan berjalannya epoch, menunjukkan bahwa model semakin optimal dalam meminimalkan error.\n",
        "Accuracy model semakin meningkat seiring dengan berjalannya epoch, menunjukkan bahwa performa model dalam memprediksi semakin baik.\n",
        "Dalam 100 epochs, terlihat bahwa loss function dan accuracy model stabil setelah beberapa iterasi, menunjukkan bahwa model telah konvergen ke kondisi yang optimal.\n",
        "Dengan demikian, kesimpulan yang dapat diambil adalah bahwa model Artificial Neural Network (ANN) yang telah dilatih mampu memprediksi dengan akurasi sekitar 83.55% pada dataset uji.\n",
        "\n",
        "\\\n",
        "Dari confusion matrix tersebut, dapat dilihat bahwa:\n",
        "\n",
        "True Positive (TP): 138\n",
        "True Negative (TN): 1545\n",
        "False Positive (FP): 50\n",
        "False Negative (FN): 267\n",
        "Dengan demikian, kesimpulannya adalah model memiliki kemampuan yang baik dalam memprediksi kelas positif (138 True Positive), namun masih memiliki kesalahan dalam memprediksi kelas negatif (50 False Positive) dan kelas positif yang sebenarnya (267 False Negative)."
      ],
      "metadata": {
        "id": "gJ_w-HM2dqms"
      }
    },
    {
      "cell_type": "markdown",
      "source": [
        "# Kesimpulan\n"
      ],
      "metadata": {
        "id": "_UMNrDnAd_Jp"
      }
    },
    {
      "cell_type": "markdown",
      "source": [
        "Kesimpulannya adalah bahwa model Artificial Neural Network (ANN) yang telah dilatih dengan 100 epochs mampu mencapai akurasi sekitar 83.55% pada dataset uji. Meskipun demikian, dari confusion matrix, terlihat bahwa model masih memiliki kesalahan dalam memprediksi beberapa kelas, seperti False Positive dan False Negative. Oleh karena itu, meskipun akurasinya tinggi, model perlu diperbaiki lebih lanjut untuk mengurangi kesalahan prediksi pada kelas-kelas tertentu."
      ],
      "metadata": {
        "id": "MxyLIc7yeBuI"
      }
    }
  ],
  "metadata": {
    "colab": {
      "provenance": []
    },
    "kernelspec": {
      "display_name": "Python 3",
      "name": "python3"
    },
    "language_info": {
      "name": "python"
    }
  },
  "nbformat": 4,
  "nbformat_minor": 0
}